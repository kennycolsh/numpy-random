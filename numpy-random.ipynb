{
 "cells": [
  {
   "cell_type": "markdown",
   "metadata": {},
   "source": [
    "# The numpy.random Package\n",
    "\n",
    "## What is the porpose of the numpy package?\n",
    "\n",
    "### Numpy short for numerical Python is one of the most important  foundational packages for numerical computing in Python.\n",
    "\n",
    "- Ref: Python for Data Analysis , Wes Mckinney\n",
    "\n",
    "#### This package supplements the built in python random with functions for efficently generating whole arrays of sample values. you can generate a 4 x 4 array of samples from the standard \"normal disribution using normal.\n",
    "\n",
    "##### see example 1\n",
    "\n",
    "##### Partial List of functions available in numpy.random\n",
    "\n",
    "1. seed -seed the random number generator\n",
    "2. randint - Draw randon integers from a given low to high\n",
    "3. normal - draw samples from a norma (gaussian) distrubtion\n",
    "4. uniform - dram samples from a uniform [0,1] distrbution\n",
    "\n",
    "- Ref: https://www.geeksforgeeks.org/random-numbers-in-python/\n",
    "\n",
    "\n",
    "##### Python defines a set of functions that are used to generate or manipulate random numbers. This particular type of functions are used in a lot of games, lotteries or any application requiring random number generation.\n",
    "\n",
    "\n",
    "\n",
    "\n",
    "\n",
    "\n"
   ]
  },
  {
   "cell_type": "code",
   "execution_count": 12,
   "metadata": {},
   "outputs": [],
   "source": [
    "import numpy as np\n",
    "import random"
   ]
  },
  {
   "cell_type": "code",
   "execution_count": 13,
   "metadata": {},
   "outputs": [
    {
     "data": {
      "text/plain": [
       "array([[-1.70512774, -0.07299108,  1.07126612, -0.1344783 ],\n",
       "       [ 1.3853588 , -0.38190038, -0.23434901,  1.31099465],\n",
       "       [ 0.16384423, -0.46876692, -0.30903305, -0.45130679],\n",
       "       [-0.76851335,  1.34962779,  0.19531351, -0.09736188]])"
      ]
     },
     "execution_count": 13,
     "metadata": {},
     "output_type": "execute_result"
    }
   ],
   "source": [
    "#example 1\n",
    "samples = np.random.normal(size=(4,4))\n",
    "samples"
   ]
  },
  {
   "cell_type": "code",
   "execution_count": null,
   "metadata": {},
   "outputs": [],
   "source": []
  },
  {
   "cell_type": "code",
   "execution_count": 9,
   "metadata": {},
   "outputs": [
    {
     "data": {
      "text/plain": [
       "array([0.82806686, 0.31686341, 0.23754474, ..., 0.54458717, 0.27752053,\n",
       "       0.17724691])"
      ]
     },
     "execution_count": 9,
     "metadata": {},
     "output_type": "execute_result"
    }
   ],
   "source": [
    "x = np.random.rand(10000)\n",
    "x"
   ]
  },
  {
   "cell_type": "code",
   "execution_count": 11,
   "metadata": {},
   "outputs": [
    {
     "ename": "AttributeError",
     "evalue": "module 'numpy' has no attribute 'randrange'",
     "output_type": "error",
     "traceback": [
      "\u001b[1;31m---------------------------------------------------------------------------\u001b[0m",
      "\u001b[1;31mAttributeError\u001b[0m                            Traceback (most recent call last)",
      "\u001b[1;32m<ipython-input-11-33e88129111c>\u001b[0m in \u001b[0;36m<module>\u001b[1;34m\u001b[0m\n\u001b[1;32m----> 1\u001b[1;33m \u001b[0mnp\u001b[0m\u001b[1;33m.\u001b[0m\u001b[0mrandrange\u001b[0m\u001b[1;33m(\u001b[0m\u001b[1;36m20\u001b[0m\u001b[1;33m,\u001b[0m \u001b[1;36m50\u001b[0m\u001b[1;33m,\u001b[0m \u001b[1;36m3\u001b[0m\u001b[1;33m)\u001b[0m\u001b[1;33m\u001b[0m\u001b[1;33m\u001b[0m\u001b[0m\n\u001b[0m",
      "\u001b[1;31mAttributeError\u001b[0m: module 'numpy' has no attribute 'randrange'"
     ]
    }
   ],
   "source": []
  },
  {
   "cell_type": "code",
   "execution_count": 12,
   "metadata": {},
   "outputs": [
    {
     "data": {
      "text/plain": [
       "(array([ 980.,  950., 1066., 1014., 1025., 1032., 1036.,  979.,  933.,\n",
       "         985.]),\n",
       " array([6.14654494e-05, 1.00051183e-01, 2.00040901e-01, 3.00030618e-01,\n",
       "        4.00020336e-01, 5.00010053e-01, 5.99999771e-01, 6.99989488e-01,\n",
       "        7.99979206e-01, 8.99968924e-01, 9.99958641e-01]),\n",
       " <a list of 10 Patch objects>)"
      ]
     },
     "execution_count": 12,
     "metadata": {},
     "output_type": "execute_result"
    },
    {
     "data": {
      "image/png": "[encoded data removed]",
      "text/plain": [
       "<Figure size 432x288 with 1 Axes>"
      ]
     },
     "metadata": {
      "needs_background": "light"
     },
     "output_type": "display_data"
    }
   ],
   "source": [
    "import matplotlib.pyplot as plt\n",
    "plt.hist(x)"
   ]
  },
  {
   "cell_type": "code",
   "execution_count": 18,
   "metadata": {},
   "outputs": [
    {
     "data": {
      "text/plain": [
       "array([1.5806455 , 5.86643346, 5.1871698 , 0.38693803, 4.70995551,\n",
       "       2.6660728 , 0.66746008, 8.96736982, 4.5866176 , 4.05045536,\n",
       "       2.87582984, 9.53694918, 3.95383245, 7.65227855, 4.06595703,\n",
       "       2.99706045, 6.20320433, 9.27671661, 6.90102902, 5.44336279,\n",
       "       9.03417404, 8.15784552, 2.75445371, 0.8708199 , 9.22467483,\n",
       "       0.91487573, 7.43701296, 7.56450143, 9.02413283, 2.85376779,\n",
       "       8.09951296, 7.43842097, 3.53458986, 8.98455502, 4.60128953,\n",
       "       1.23118488, 3.67957629, 1.2402341 , 0.77525654, 7.52338288,\n",
       "       4.28820022, 3.4063044 , 1.76440156, 4.01589967, 5.55748158,\n",
       "       5.54031988, 7.76404527, 2.1243501 , 5.69074533, 2.87581671,\n",
       "       3.06183486, 5.514395  , 1.14970254, 1.47120175, 6.64007737,\n",
       "       8.01036334, 1.85753723, 8.52958228, 4.55924383, 9.21947657,\n",
       "       2.49587556, 9.75179992, 0.07227229, 6.20484982, 8.44014597,\n",
       "       2.01107392, 9.13915164, 0.40732159, 3.36961957, 4.43142678,\n",
       "       6.58166751, 2.09227379, 8.70328286, 8.23107042, 8.2966579 ,\n",
       "       7.78884928, 1.73210402, 5.26886794, 7.57899081, 2.56804332,\n",
       "       1.61831311, 6.60095909, 8.18356443, 4.34262503, 4.78403528,\n",
       "       1.88337429, 2.95186515, 9.77096101, 2.71082388, 0.475536  ,\n",
       "       2.18471121, 0.02781971, 5.27236743, 7.65537152, 3.97010294,\n",
       "       3.78654952, 9.13399743, 3.62089486, 1.08520594, 4.67115073])"
      ]
     },
     "execution_count": 18,
     "metadata": {},
     "output_type": "execute_result"
    }
   ],
   "source": [
    "s = np.random.uniform(0,10,100)\n",
    "s"
   ]
  },
  {
   "cell_type": "code",
   "execution_count": 19,
   "metadata": {},
   "outputs": [
    {
     "data": {
      "text/plain": [
       "(array([ 9., 11., 12.,  9., 14.,  9.,  5., 10.,  9., 12.]),\n",
       " array([0.02781971, 1.00213384, 1.97644797, 2.9507621 , 3.92507623,\n",
       "        4.89939036, 5.87370449, 6.84801862, 7.82233275, 8.79664688,\n",
       "        9.77096101]),\n",
       " <a list of 10 Patch objects>)"
      ]
     },
     "execution_count": 19,
     "metadata": {},
     "output_type": "execute_result"
    },
    {
     "data": {
      "image/png": "[encoded data removed]",
      "text/plain": [
       "<Figure size 432x288 with 1 Axes>"
      ]
     },
     "metadata": {
      "needs_background": "light"
     },
     "output_type": "display_data"
    }
   ],
   "source": [
    "plt.hist(s)"
   ]
  },
  {
   "cell_type": "code",
   "execution_count": 34,
   "metadata": {
    "scrolled": false
   },
   "outputs": [],
   "source": [
    "x =np.random.normal(5, 7, 100)"
   ]
  },
  {
   "cell_type": "code",
   "execution_count": 35,
   "metadata": {},
   "outputs": [
    {
     "data": {
      "text/plain": [
       "(array([ 1.,  2.,  2., 13., 13., 21., 19., 18.,  9.,  2.]),\n",
       " array([-16.78657054, -13.02351433,  -9.26045812,  -5.49740191,\n",
       "         -1.7343457 ,   2.02871051,   5.79176672,   9.55482293,\n",
       "         13.31787914,  17.08093535,  20.84399156]),\n",
       " <a list of 10 Patch objects>)"
      ]
     },
     "execution_count": 35,
     "metadata": {},
     "output_type": "execute_result"
    },
    {
     "data": {
      "image/png": "[encoded data removed]",
      "text/plain": [
       "<Figure size 432x288 with 1 Axes>"
      ]
     },
     "metadata": {
      "needs_background": "light"
     },
     "output_type": "display_data"
    }
   ],
   "source": [
    "plt.hist(x)"
   ]
  },
  {
   "cell_type": "code",
   "execution_count": null,
   "metadata": {},
   "outputs": [],
   "source": []
  }
 ],
 "metadata": {
  "kernelspec": {
   "display_name": "Python 3",
   "language": "python",
   "name": "python3"
  },
  "language_info": {
   "codemirror_mode": {
    "name": "ipython",
    "version": 3
   },
   "file_extension": ".py",
   "mimetype": "text/x-python",
   "name": "python",
   "nbconvert_exporter": "python",
   "pygments_lexer": "ipython3",
   "version": "3.7.3"
  }
 },
 "nbformat": 4,
 "nbformat_minor": 2
}
