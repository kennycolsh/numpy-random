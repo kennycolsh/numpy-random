{
 "cells": [
  {
   "cell_type": "markdown",
   "metadata": {},
   "source": [
    "# The numpy.random Package\n",
    "\n",
    "## What is the porpose of the numpy package?\n",
    "\n",
    "### Numpy short for numerical Python is one of the most important  foundational packages for numerical computing in Python.\n",
    "\n",
    "- Ref: Python for Data Analysis , Wes Mckinney\n",
    "\n",
    "#### This package supplements the built in python random with functions for efficently generating whole arrays of sample values. you can generate a 4 x 4 array of samples from the standard \"normal disribution using normal.\n",
    "\n",
    "##### see example 1\n",
    "\n",
    "##### Partial List of functions available in numpy.random\n",
    "\n",
    "1. seed -seed the random number generator\n",
    "2. randint - Draw randon integers from a given low to high\n",
    "3. normal - draw samples from a norma (gaussian) distrubtion\n",
    "4. uniform - dram samples from a uniform [0,1] distrbution\n",
    "\n",
    "- Ref: https://www.geeksforgeeks.org/random-numbers-in-python/\n",
    "\n",
    "\n",
    "##### Python defines a set of functions that are used to generate or manipulate random numbers. This particular type of functions are used in a lot of games, lotteries or any application requiring random number generation.\n",
    "\n",
    "\n"
   ]
  },
  {
   "cell_type": "code",
   "execution_count": 30,
   "metadata": {},
   "outputs": [],
   "source": [
    "import numpy as np\n",
    "import random"
   ]
  },
  {
   "cell_type": "markdown",
   "metadata": {},
   "source": []
  },
  {
   "cell_type": "code",
   "execution_count": 31,
   "metadata": {},
   "outputs": [
    {
     "data": {
      "text/plain": [
       "array([[ 0.50371411, -0.95320134,  0.22229732,  0.68437731],\n",
       "       [-1.08921884, -0.08118467,  0.82144594,  0.49444017],\n",
       "       [ 0.70890608,  0.72362467, -0.05694161, -0.87459922],\n",
       "       [ 0.34056636,  0.07963882,  0.72297767, -1.14456264]])"
      ]
     },
     "execution_count": 31,
     "metadata": {},
     "output_type": "execute_result"
    }
   ],
   "source": [
    "#example 1\n",
    "samples = np.random.normal(size=(4,4))\n",
    "samples"
   ]
  },
  {
   "cell_type": "markdown",
   "metadata": {},
   "source": [
    "## Simple random data\n",
    "### Random values in a given shape.\n",
    "#### can take any number of arg's\n",
    "##### Create an array of the given shape and populate it \n",
    "##### with random samples from a uniform distribution over [0, 1).\n",
    "\n",
    "#### Parameters:\t\n",
    "##### d0, d1, …, dn : int, optional\n",
    "##### The dimensions of the returned array, should all be positive. If no argument is given a single Python float is returned.\n",
    "\n",
    "#### Returns:\t\n",
    "##### out : ndarray, shape (d0, d1, ..., dn)\n",
    "##### Random values.\n",
    "\n",
    "#### [Rows and columns]\n"
   ]
  },
  {
   "cell_type": "code",
   "execution_count": 32,
   "metadata": {},
   "outputs": [
    {
     "data": {
      "text/plain": [
       "array([[0.42695186, 0.15966579],\n",
       "       [0.7785501 , 0.68738709],\n",
       "       [0.5072984 , 0.33011807]])"
      ]
     },
     "execution_count": 32,
     "metadata": {},
     "output_type": "execute_result"
    }
   ],
   "source": [
    "np.random.rand(3,2)"
   ]
  },
  {
   "cell_type": "markdown",
   "metadata": {},
   "source": [
    "### the distrubutio of the 0 and 1 will you a number between 1 and 0 but not 1\n"
   ]
  },
  {
   "cell_type": "code",
   "execution_count": 33,
   "metadata": {},
   "outputs": [
    {
     "data": {
      "text/plain": [
       "array([0.98581218, 0.87418298, 0.84942423, ..., 0.14636686, 0.96056945,\n",
       "       0.89730995])"
      ]
     },
     "execution_count": 33,
     "metadata": {},
     "output_type": "execute_result"
    }
   ],
   "source": [
    "x = np.random.rand(10000)\n",
    "x"
   ]
  },
  {
   "cell_type": "code",
   "execution_count": 34,
   "metadata": {},
   "outputs": [
    {
     "data": {
      "text/plain": [
       "(array([ 972.,  975., 1048.,  988., 1034.,  999., 1022.,  964., 1042.,\n",
       "         956.]),\n",
       " array([1.83163906e-04, 1.00147818e-01, 2.00112472e-01, 3.00077127e-01,\n",
       "        4.00041781e-01, 5.00006435e-01, 5.99971089e-01, 6.99935744e-01,\n",
       "        7.99900398e-01, 8.99865052e-01, 9.99829706e-01]),\n",
       " <a list of 10 Patch objects>)"
      ]
     },
     "execution_count": 34,
     "metadata": {},
     "output_type": "execute_result"
    },
    {
     "data": {
      "image/png": "[encoded data removed]",
      "text/plain": [
       "<Figure size 432x288 with 1 Axes>"
      ]
     },
     "metadata": {
      "needs_background": "light"
     },
     "output_type": "display_data"
    }
   ],
   "source": [
    "import matplotlib.pyplot as plt\n",
    "plt.hist(x)"
   ]
  },
  {
   "cell_type": "code",
   "execution_count": 35,
   "metadata": {},
   "outputs": [
    {
     "data": {
      "text/plain": [
       "array([8.15892841, 9.91651422, 1.70586467, 8.61593505, 4.77263706,\n",
       "       8.69275561, 1.01983735, 0.40889803, 7.8480518 , 8.91881478,\n",
       "       3.98521796, 1.39101914, 1.70280565, 1.37356707, 0.0237535 ,\n",
       "       3.57760155, 4.64544479, 3.58516498, 2.56462263, 2.82783717,\n",
       "       4.1743772 , 3.27507645, 0.52159606, 1.04709282, 9.83244355,\n",
       "       2.90193051, 8.66536674, 2.16654437, 1.72534747, 9.51647029,\n",
       "       2.86666824, 7.66231894, 9.26006474, 8.70289256, 5.09310674,\n",
       "       4.01092493, 7.90812673, 2.88939452, 5.22350145, 0.11319834,\n",
       "       2.6571675 , 0.1796721 , 5.37601653, 6.41544713, 7.63749778,\n",
       "       8.38418466, 9.0408958 , 6.14229522, 2.74675291, 0.46148648,\n",
       "       7.26782932, 2.45402757, 7.81096007, 2.93352113, 2.92537986,\n",
       "       3.2363576 , 1.47397172, 1.75857657, 9.36415893, 0.01006103,\n",
       "       3.16293985, 0.28095028, 5.2804237 , 2.31864094, 8.22603349,\n",
       "       3.25066788, 0.99510943, 2.24464851, 8.50302537, 3.63872453,\n",
       "       6.07874104, 6.39484279, 6.07246123, 6.02753527, 5.06954868,\n",
       "       3.1027356 , 5.44773016, 8.52541888, 9.50711797, 4.26518147,\n",
       "       1.02177437, 7.32843524, 5.80143573, 6.07360546, 8.09059391,\n",
       "       3.23680971, 8.86518886, 6.78284331, 5.00670736, 6.1258588 ,\n",
       "       7.20113713, 1.37086296, 6.94459089, 7.57678736, 7.73620167,\n",
       "       3.04779217, 5.25473944, 1.5296417 , 1.11071772, 0.72843656])"
      ]
     },
     "execution_count": 35,
     "metadata": {},
     "output_type": "execute_result"
    }
   ],
   "source": [
    "s = np.random.uniform(0,10,100)\n",
    "s"
   ]
  },
  {
   "cell_type": "code",
   "execution_count": 36,
   "metadata": {},
   "outputs": [
    {
     "data": {
      "text/plain": [
       "(array([10., 13., 13., 10.,  6.,  9.,  9., 11., 12.,  7.]),\n",
       " array([0.01006103, 1.00070635, 1.99135167, 2.98199699, 3.97264231,\n",
       "        4.96328763, 5.95393294, 6.94457826, 7.93522358, 8.9258689 ,\n",
       "        9.91651422]),\n",
       " <a list of 10 Patch objects>)"
      ]
     },
     "execution_count": 36,
     "metadata": {},
     "output_type": "execute_result"
    },
    {
     "data": {
      "image/png": "[encoded data removed]",
      "text/plain": [
       "<Figure size 432x288 with 1 Axes>"
      ]
     },
     "metadata": {
      "needs_background": "light"
     },
     "output_type": "display_data"
    }
   ],
   "source": [
    "plt.hist(s)"
   ]
  },
  {
   "cell_type": "code",
   "execution_count": 37,
   "metadata": {
    "scrolled": false
   },
   "outputs": [],
   "source": [
    "x =np.random.normal(5, 7, 100)"
   ]
  },
  {
   "cell_type": "code",
   "execution_count": 38,
   "metadata": {},
   "outputs": [
    {
     "data": {
      "text/plain": [
       "(array([ 2.,  5.,  9., 14., 15., 22., 13.,  6., 10.,  4.]),\n",
       " array([-12.33295967,  -8.95453287,  -5.57610607,  -2.19767927,\n",
       "          1.18074753,   4.55917433,   7.93760113,  11.31602793,\n",
       "         14.69445473,  18.07288153,  21.45130832]),\n",
       " <a list of 10 Patch objects>)"
      ]
     },
     "execution_count": 38,
     "metadata": {},
     "output_type": "execute_result"
    },
    {
     "data": {
      "image/png": "[encoded data removed]",
      "text/plain": [
       "<Figure size 432x288 with 1 Axes>"
      ]
     },
     "metadata": {
      "needs_background": "light"
     },
     "output_type": "display_data"
    }
   ],
   "source": [
    "plt.hist(x)"
   ]
  },
  {
   "cell_type": "markdown",
   "metadata": {},
   "source": [
    "## Permutations\n",
    "\n",
    "#### shuffle(x)\tModify a sequence in-place by shuffling its contents.\n",
    "\n",
    "###### This function only shuffles the array along the first axis of a multi-dimensional array. The order of sub-arrays is changed but their contents remains the same.\n",
    "\n",
    "### Parameters:\t\n",
    "###### x : array_like\n",
    "###### The array or list to be shuffled.\n",
    "\n",
    "###### Returns:\t\n",
    "###### None"
   ]
  },
  {
   "cell_type": "code",
   "execution_count": 39,
   "metadata": {},
   "outputs": [],
   "source": [
    "arr = np.arange(6)"
   ]
  },
  {
   "cell_type": "code",
   "execution_count": 40,
   "metadata": {},
   "outputs": [],
   "source": [
    "np.random.shuffle(arr)"
   ]
  },
  {
   "cell_type": "code",
   "execution_count": 41,
   "metadata": {},
   "outputs": [
    {
     "data": {
      "text/plain": [
       "array([2, 5, 0, 3, 1, 4])"
      ]
     },
     "execution_count": 41,
     "metadata": {},
     "output_type": "execute_result"
    }
   ],
   "source": [
    "arr"
   ]
  },
  {
   "cell_type": "code",
   "execution_count": 42,
   "metadata": {},
   "outputs": [],
   "source": [
    "#Multi-dimensional arrays are only shuffled along the first axis:"
   ]
  },
  {
   "cell_type": "code",
   "execution_count": 43,
   "metadata": {},
   "outputs": [],
   "source": [
    "arr = np.arange(9).reshape((3, 3))"
   ]
  },
  {
   "cell_type": "code",
   "execution_count": 44,
   "metadata": {},
   "outputs": [
    {
     "data": {
      "text/plain": [
       "array([[0, 1, 2],\n",
       "       [3, 4, 5],\n",
       "       [6, 7, 8]])"
      ]
     },
     "execution_count": 44,
     "metadata": {},
     "output_type": "execute_result"
    }
   ],
   "source": [
    "np.random.shuffle(arr)\n",
    "arr"
   ]
  },
  {
   "cell_type": "markdown",
   "metadata": {},
   "source": [
    "##### permutation(x)\tRandomly permute a sequence, or return a permuted range.\n",
    "\n",
    "##### If x is a multi-dimensional array, it is only shuffled along its first index.\n",
    "\n",
    "#### Parameters:\t\n",
    "##### x : int or array_like\n",
    "##### If x is an integer, randomly permute np.arange(x). If x is an array, make a copy and shuffle the elements randomly.\n",
    "\n",
    "##### Returns:\t\n",
    "##### out : ndarray\n",
    "##### Permuted sequence or array range."
   ]
  },
  {
   "cell_type": "code",
   "execution_count": 45,
   "metadata": {},
   "outputs": [
    {
     "data": {
      "text/plain": [
       "array([0, 5, 3, 9, 2, 4, 8, 7, 6, 1])"
      ]
     },
     "execution_count": 45,
     "metadata": {},
     "output_type": "execute_result"
    }
   ],
   "source": [
    "np.random.permutation(10)"
   ]
  },
  {
   "cell_type": "code",
   "execution_count": 46,
   "metadata": {},
   "outputs": [
    {
     "data": {
      "text/plain": [
       "array([ 1, 15, 12,  4,  9])"
      ]
     },
     "execution_count": 46,
     "metadata": {},
     "output_type": "execute_result"
    }
   ],
   "source": [
    "np.random.permutation([1, 4, 9, 12, 15])"
   ]
  },
  {
   "cell_type": "code",
   "execution_count": 47,
   "metadata": {},
   "outputs": [
    {
     "data": {
      "text/plain": [
       "array([[ 6,  7,  8],\n",
       "       [ 0,  1,  2],\n",
       "       [ 9, 10, 11],\n",
       "       [ 3,  4,  5]])"
      ]
     },
     "execution_count": 47,
     "metadata": {},
     "output_type": "execute_result"
    }
   ],
   "source": [
    "arr = np.arange(12).reshape((4, 3))\n",
    "np.random.permutation(arr)"
   ]
  },
  {
   "cell_type": "markdown",
   "metadata": {},
   "source": [
    "## Distributions\n",
    "\n",
    "#### normal([loc, scale, size])\tDraw random samples from a normal (Gaussian) distribution.\n",
    "\n",
    "##### ref-https://stattrek.com/probability/probability-distribution.aspx \n",
    "\n",
    "##### The probability distribution of a continuous random variable is represented by an equation, ##### called the probability density function (pdf). All probability density functions satisfy the  following conditions:\n",
    "\n",
    "##### The random variable Y is a function of X; that is, y = f(x).\n",
    "##### The value of y is greater than or equal to zero for all values of x.\n",
    "##### The total area under the curve of the function is equal to one.\n",
    "\n"
   ]
  },
  {
   "cell_type": "code",
   "execution_count": 48,
   "metadata": {
    "scrolled": true
   },
   "outputs": [],
   "source": [
    "import matplotlib.pyplot as plt\n",
    "x = np.random.normal(0, 0.1, 1000)\n"
   ]
  },
  {
   "cell_type": "code",
   "execution_count": 49,
   "metadata": {},
   "outputs": [
    {
     "data": {
      "text/plain": [
       "(array([  7.,  32.,  75., 173., 271., 228., 160.,  40.,  10.,   4.]),\n",
       " array([-0.33062147, -0.26100513, -0.19138879, -0.12177245, -0.0521561 ,\n",
       "         0.01746024,  0.08707658,  0.15669292,  0.22630926,  0.2959256 ,\n",
       "         0.36554195]),\n",
       " <a list of 10 Patch objects>)"
      ]
     },
     "execution_count": 49,
     "metadata": {},
     "output_type": "execute_result"
    },
    {
     "data": {
      "image/png": "[encoded data removed]",
      "text/plain": [
       "<Figure size 432x288 with 1 Axes>"
      ]
     },
     "metadata": {
      "needs_background": "light"
     },
     "output_type": "display_data"
    }
   ],
   "source": [
    "plt.hist(x)\n",
    "#value centerd around 0\n",
    "#secound value gives you the spread"
   ]
  },
  {
   "cell_type": "markdown",
   "metadata": {},
   "source": [
    "#### numpy.random.gamma\n",
    "###### Samples are drawn from a Gamma distribution with specified parameters, shape (sometimes designated “k”) and scale (sometimes designated “theta”), where both parameters are > 0.\n",
    "\n",
    "##### Parameters:\t\n",
    "##### shape : float or array_like of floats\n",
    "##### The shape of the gamma distribution. Should be greater than zero.\n",
    "\n",
    "##### scale : float or array_like of floats, optional\n",
    "##### The scale of the gamma distribution. Should be greater than zero. Default is equal to 1.\n",
    "\n",
    "##### size : int or tuple of ints, optional\n",
    "##### Output shape. If the given shape is, e.g., (m, n, k), then m * n * k samples are drawn. If size is None (default), a single value is returned if shape and scale are both scalars. Otherwise, np.broadcast(shape, scale).size samples are drawn.\n",
    "\n",
    "##### Returns:\t\n",
    "##### out : ndarray or scalar\n",
    "##### Drawn samples from the parameterized gamma distribution."
   ]
  },
  {
   "cell_type": "code",
   "execution_count": 50,
   "metadata": {},
   "outputs": [],
   "source": [
    "import scipy.special as sps"
   ]
  },
  {
   "cell_type": "code",
   "execution_count": 56,
   "metadata": {},
   "outputs": [],
   "source": [
    "shape, scale = 2., 2.  # mean=4, std=2*sqrt(2)\n",
    "s = np.random.gamma(shape, scale, 1000)\n"
   ]
  },
  {
   "cell_type": "code",
   "execution_count": 59,
   "metadata": {},
   "outputs": [
    {
     "data": {
      "image/png": "[encoded data removed]",
      "text/plain": [
       "<Figure size 432x288 with 1 Axes>"
      ]
     },
     "metadata": {
      "needs_background": "light"
     },
     "output_type": "display_data"
    }
   ],
   "source": [
    "count, bins, ignored = plt.hist(s, 50, density=True)\n",
    "y = bins**(shape-1)*(np.exp(-bins/scale) / (sps.gamma(shape)*scale**shape))"
   ]
  },
  {
   "cell_type": "code",
   "execution_count": 57,
   "metadata": {},
   "outputs": [
    {
     "data": {
      "text/plain": [
       "[<matplotlib.lines.Line2D at 0x8bfa198>]"
      ]
     },
     "execution_count": 57,
     "metadata": {},
     "output_type": "execute_result"
    },
    {
     "data": {
      "image/png": "[encoded data removed]",
      "text/plain": [
       "<Figure size 432x288 with 1 Axes>"
      ]
     },
     "metadata": {
      "needs_background": "light"
     },
     "output_type": "display_data"
    }
   ],
   "source": [
    "plt.plot(bins, y, linewidth=2, color='r')"
   ]
  },
  {
   "cell_type": "markdown",
   "metadata": {},
   "source": [
    "## Random generator\n",
    "### Computers cannot really generate randon number\n",
    "### they produce numbers that look randon.\n",
    "\n",
    "#### usally they use a seed to start with and if you know that seed you may be able to perdict the next number. \n",
    "#### pie have a decimal expansion that never repeats so this can be used as a good seed i.e. no pattern\n",
    "\n",
    "##### RandomState([seed])\tContainer for the Mersenne Twister pseudo-random number generator.\n",
    "##### seed([seed])\tSeed the generator.\n",
    "##### get_state()\tReturn a tuple representing the internal state of the generator.\n",
    "##### set_state(state)\tSet the internal state of the generator from a tuple.\n"
   ]
  },
  {
   "cell_type": "markdown",
   "metadata": {},
   "source": [
    "## If you set the np.random.seed(a_fixed_number) every time you call the numpy's other random function, the result will be the same:\n",
    "\n",
    "###### ref-https://stackoverflow.com/questions/21494489/what-does-numpy-random-seed0-do"
   ]
  },
  {
   "cell_type": "code",
   "execution_count": 66,
   "metadata": {},
   "outputs": [],
   "source": [
    "np.random.seed(0) "
   ]
  },
  {
   "cell_type": "code",
   "execution_count": 67,
   "metadata": {},
   "outputs": [
    {
     "data": {
      "text/plain": [
       "array([2, 8, 4, 9, 1, 6, 7, 3, 0, 5])"
      ]
     },
     "execution_count": 67,
     "metadata": {},
     "output_type": "execute_result"
    }
   ],
   "source": [
    "perm = np.random.permutation(10)\n",
    "perm"
   ]
  },
  {
   "cell_type": "code",
   "execution_count": 69,
   "metadata": {},
   "outputs": [
    {
     "data": {
      "text/plain": [
       "array([2, 8, 4, 9, 1, 6, 7, 3, 0, 5])"
      ]
     },
     "execution_count": 69,
     "metadata": {},
     "output_type": "execute_result"
    }
   ],
   "source": [
    "np.random.seed(0)\n",
    "x=np.random.permutation(10) \n",
    "x"
   ]
  },
  {
   "cell_type": "code",
   "execution_count": 70,
   "metadata": {},
   "outputs": [
    {
     "data": {
      "text/plain": [
       "array([0.5488135 , 0.71518937, 0.60276338, 0.54488318])"
      ]
     },
     "execution_count": 70,
     "metadata": {},
     "output_type": "execute_result"
    }
   ],
   "source": [
    "np.random.seed(0)\n",
    "x= np.random.rand(4)\n",
    "x"
   ]
  },
  {
   "cell_type": "markdown",
   "metadata": {},
   "source": [
    "### However, if you just call it once and use various random functions, the results will still be different:\n"
   ]
  },
  {
   "cell_type": "code",
   "execution_count": 71,
   "metadata": {},
   "outputs": [
    {
     "data": {
      "text/plain": [
       "array([2, 8, 4, 9, 1, 6, 7, 3, 0, 5])"
      ]
     },
     "execution_count": 71,
     "metadata": {},
     "output_type": "execute_result"
    }
   ],
   "source": [
    "np.random.seed(0) \n",
    "perm = np.random.permutation(10)\n",
    "perm"
   ]
  },
  {
   "cell_type": "code",
   "execution_count": 73,
   "metadata": {},
   "outputs": [
    {
     "data": {
      "text/plain": [
       "array([0.43758721, 0.891773  , 0.96366276, 0.38344152])"
      ]
     },
     "execution_count": 73,
     "metadata": {},
     "output_type": "execute_result"
    }
   ],
   "source": [
    " np.random.rand(4)"
   ]
  },
  {
   "cell_type": "code",
   "execution_count": 74,
   "metadata": {},
   "outputs": [
    {
     "data": {
      "text/plain": [
       "array([0.79172504, 0.52889492, 0.56804456, 0.92559664])"
      ]
     },
     "execution_count": 74,
     "metadata": {},
     "output_type": "execute_result"
    }
   ],
   "source": [
    " np.random.rand(4)"
   ]
  },
  {
   "cell_type": "code",
   "execution_count": null,
   "metadata": {},
   "outputs": [],
   "source": []
  }
 ],
 "metadata": {
  "kernelspec": {
   "display_name": "Python 3",
   "language": "python",
   "name": "python3"
  },
  "language_info": {
   "codemirror_mode": {
    "name": "ipython",
    "version": 3
   },
   "file_extension": ".py",
   "mimetype": "text/x-python",
   "name": "python",
   "nbconvert_exporter": "python",
   "pygments_lexer": "ipython3",
   "version": "3.7.3"
  }
 },
 "nbformat": 4,
 "nbformat_minor": 2
}
